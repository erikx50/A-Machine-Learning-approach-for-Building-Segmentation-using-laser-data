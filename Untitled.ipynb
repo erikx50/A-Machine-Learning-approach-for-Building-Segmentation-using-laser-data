{
 "cells": [
  {
   "cell_type": "code",
   "execution_count": 1,
   "id": "45b4c441",
   "metadata": {},
   "outputs": [],
   "source": [
    "from itertools import combinations"
   ]
  },
  {
   "cell_type": "code",
   "execution_count": 2,
   "id": "668bbd23",
   "metadata": {},
   "outputs": [],
   "source": [
    "models = ['U-Net', 'EfficientNetB4 U-Net', 'EfficientNetV2S U-Net', 'ResNet50V2 U-Net', 'DenseNet201 U-Net',\n",
    "              'EfficientNetB4 CT-UNet']"
   ]
  },
  {
   "cell_type": "code",
   "execution_count": 3,
   "id": "0647409f",
   "metadata": {},
   "outputs": [
    {
     "name": "stdout",
     "output_type": "stream",
     "text": [
      "['U-Net', 'EfficientNetB4 U-Net', 'EfficientNetV2S U-Net', 'ResNet50V2 U-Net', 'DenseNet201 U-Net', 'EfficientNetB4 CT-UNet']\n"
     ]
    }
   ],
   "source": [
    "print(models)"
   ]
  },
  {
   "cell_type": "code",
   "execution_count": 12,
   "id": "93915dba",
   "metadata": {},
   "outputs": [],
   "source": [
    "ensemble_models = [\",\".join(map(str, comb)) for comb in combinations(models, 3)]"
   ]
  },
  {
   "cell_type": "code",
   "execution_count": 7,
   "id": "abe32b10",
   "metadata": {},
   "outputs": [
    {
     "name": "stdout",
     "output_type": "stream",
     "text": [
      "('U-Net', 'ResNet50V2 U-Net', 'EfficientNetB4 CT-UNet')\n",
      "('U-Net', 'EfficientNetV2S U-Net', 'ResNet50V2 U-Net')\n",
      "('ResNet50V2 U-Net', 'DenseNet201 U-Net', 'EfficientNetB4 CT-UNet')\n",
      "('U-Net', 'EfficientNetV2S U-Net', 'DenseNet201 U-Net')\n",
      "('EfficientNetB4 U-Net', 'ResNet50V2 U-Net', 'EfficientNetB4 CT-UNet')\n",
      "('EfficientNetB4 U-Net', 'EfficientNetV2S U-Net', 'ResNet50V2 U-Net')\n",
      "('EfficientNetV2S U-Net', 'ResNet50V2 U-Net', 'DenseNet201 U-Net')\n",
      "('U-Net', 'DenseNet201 U-Net', 'EfficientNetB4 CT-UNet')\n",
      "('EfficientNetB4 U-Net', 'DenseNet201 U-Net', 'EfficientNetB4 CT-UNet')\n",
      "('EfficientNetB4 U-Net', 'EfficientNetV2S U-Net', 'DenseNet201 U-Net')\n",
      "('U-Net', 'EfficientNetB4 U-Net', 'EfficientNetB4 CT-UNet')\n",
      "('U-Net', 'EfficientNetB4 U-Net', 'EfficientNetV2S U-Net')\n",
      "('U-Net', 'EfficientNetV2S U-Net', 'EfficientNetB4 CT-UNet')\n",
      "('EfficientNetV2S U-Net', 'ResNet50V2 U-Net', 'EfficientNetB4 CT-UNet')\n",
      "('EfficientNetB4 U-Net', 'EfficientNetV2S U-Net', 'EfficientNetB4 CT-UNet')\n",
      "('EfficientNetV2S U-Net', 'DenseNet201 U-Net', 'EfficientNetB4 CT-UNet')\n",
      "('U-Net', 'ResNet50V2 U-Net', 'DenseNet201 U-Net')\n",
      "('EfficientNetB4 U-Net', 'ResNet50V2 U-Net', 'DenseNet201 U-Net')\n",
      "('U-Net', 'EfficientNetB4 U-Net', 'ResNet50V2 U-Net')\n",
      "('U-Net', 'EfficientNetB4 U-Net', 'DenseNet201 U-Net')\n"
     ]
    }
   ],
   "source": [
    "for x in set(combinations(models, 3)):\n",
    "    print(x)"
   ]
  },
  {
   "cell_type": "code",
   "execution_count": 9,
   "id": "859e7704",
   "metadata": {},
   "outputs": [],
   "source": [
    "test = {0.9: 'lol', 0.33: 'lul', 0.923: 'smig'}"
   ]
  },
  {
   "cell_type": "code",
   "execution_count": 10,
   "id": "13028cf5",
   "metadata": {},
   "outputs": [
    {
     "name": "stdout",
     "output_type": "stream",
     "text": [
      "{0.9: 'lol', 0.33: 'lul', 0.923: 'smig'}\n"
     ]
    }
   ],
   "source": [
    "print(test)"
   ]
  },
  {
   "cell_type": "code",
   "execution_count": 12,
   "id": "d4d60512",
   "metadata": {},
   "outputs": [],
   "source": [
    "des_keys = sorted(test.keys(),  reverse = True)"
   ]
  },
  {
   "cell_type": "code",
   "execution_count": 13,
   "id": "c55f28ca",
   "metadata": {},
   "outputs": [
    {
     "name": "stdout",
     "output_type": "stream",
     "text": [
      "[0.923, 0.9, 0.33]\n"
     ]
    }
   ],
   "source": [
    "print(test)"
   ]
  },
  {
   "cell_type": "code",
   "execution_count": null,
   "id": "d685f0a3",
   "metadata": {},
   "outputs": [],
   "source": []
  }
 ],
 "metadata": {
  "kernelspec": {
   "display_name": "Python 3 (ipykernel)",
   "language": "python",
   "name": "python3"
  },
  "language_info": {
   "codemirror_mode": {
    "name": "ipython",
    "version": 3
   },
   "file_extension": ".py",
   "mimetype": "text/x-python",
   "name": "python",
   "nbconvert_exporter": "python",
   "pygments_lexer": "ipython3",
   "version": "3.8.16"
  }
 },
 "nbformat": 4,
 "nbformat_minor": 5
}
