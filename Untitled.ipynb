{
 "cells": [
  {
   "cell_type": "code",
   "execution_count": 1,
   "id": "45b4c441",
   "metadata": {},
   "outputs": [],
   "source": [
    "from itertools import combinations"
   ]
  },
  {
   "cell_type": "code",
   "execution_count": 35,
   "id": "668bbd23",
   "metadata": {},
   "outputs": [],
   "source": [
    "models = ['1_UNet' ,\n",
    "          '1_UNet_EfficientNetB4',\n",
    "          '1_UNet_EfficientNetV2S_Checkpoint.h5',\n",
    "          '1_UNet_ResNet50V2_Checkpoint.h5',\n",
    "          '1_UNet_DenseNet201',\n",
    "          '1_CTUNet_EfficientNetB4_Small_Checkpoint.h5']"
   ]
  },
  {
   "cell_type": "code",
   "execution_count": 36,
   "id": "0647409f",
   "metadata": {},
   "outputs": [
    {
     "name": "stdout",
     "output_type": "stream",
     "text": [
      "['1_UNet', '1_UNet_EfficientNetB4', '1_UNet_EfficientNetV2S_Checkpoint.h5', '1_UNet_ResNet50V2_Checkpoint.h5', '1_UNet_DenseNet201', '1_CTUNet_EfficientNetB4_Small_Checkpoint.h5']\n"
     ]
    }
   ],
   "source": [
    "print(models)"
   ]
  },
  {
   "cell_type": "code",
   "execution_count": 37,
   "id": "93915dba",
   "metadata": {},
   "outputs": [],
   "source": [
    "ensemble_models = [\",\".join(map(str, comb)) for comb in combinations(models, 3)]"
   ]
  },
  {
   "cell_type": "code",
   "execution_count": 38,
   "id": "abe32b10",
   "metadata": {},
   "outputs": [
    {
     "data": {
      "text/plain": [
       "20"
      ]
     },
     "execution_count": 38,
     "metadata": {},
     "output_type": "execute_result"
    }
   ],
   "source": [
    "len(set(combinations(models, 3)))\n"
   ]
  },
  {
   "cell_type": "code",
   "execution_count": 9,
   "id": "859e7704",
   "metadata": {},
   "outputs": [],
   "source": [
    "test = {0.9: 'lol', 0.33: 'lul', 0.923: 'smig'}"
   ]
  },
  {
   "cell_type": "code",
   "execution_count": 10,
   "id": "c818000a",
   "metadata": {},
   "outputs": [
    {
     "name": "stdout",
     "output_type": "stream",
     "text": [
      "{0.9: 'lol', 0.33: 'lul', 0.923: 'smig'}\n"
     ]
    }
   ],
   "source": [
    "print(test)"
   ]
  },
  {
   "cell_type": "code",
   "execution_count": 12,
   "id": "a1a18621",
   "metadata": {},
   "outputs": [],
   "source": [
    "des_keys = sorted(test.keys(),  reverse = True)"
   ]
  },
  {
   "cell_type": "code",
   "execution_count": 13,
   "id": "23274eed",
   "metadata": {},
   "outputs": [
    {
     "name": "stdout",
     "output_type": "stream",
     "text": [
      "[0.923, 0.9, 0.33]\n"
     ]
    }
   ],
   "source": [
    "print(test)"
   ]
  },
  {
   "cell_type": "code",
   "execution_count": null,
   "id": "46e764ed",
   "metadata": {},
   "outputs": [],
   "source": []
  }
 ],
 "metadata": {
  "kernelspec": {
   "display_name": "Python 3 (ipykernel)",
   "language": "python",
   "name": "python3"
  },
  "language_info": {
   "codemirror_mode": {
    "name": "ipython",
    "version": 3
   },
   "file_extension": ".py",
   "mimetype": "text/x-python",
   "name": "python",
   "nbconvert_exporter": "python",
   "pygments_lexer": "ipython3",
   "version": "3.8.16"
  }
 },
 "nbformat": 4,
 "nbformat_minor": 5
}
