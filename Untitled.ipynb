{
 "cells": [
  {
   "cell_type": "code",
   "execution_count": 3,
   "id": "45b4c441",
   "metadata": {},
   "outputs": [],
   "source": [
    "from itertools import combinations"
   ]
  },
  {
   "cell_type": "code",
   "execution_count": 10,
   "id": "668bbd23",
   "metadata": {},
   "outputs": [],
   "source": [
    "models = ['U-Net', 'EfficientNetB4 U-Net', 'EfficientNetV2S U-Net', 'ResNet50V2 U-Net', 'DenseNet201 U-Net',\n",
    "              'EfficientNetB4 CT-UNet']"
   ]
  },
  {
   "cell_type": "code",
   "execution_count": 11,
   "id": "0647409f",
   "metadata": {},
   "outputs": [
    {
     "name": "stdout",
     "output_type": "stream",
     "text": [
      "['U-Net', 'EfficientNetB4 U-Net', 'EfficientNetV2S U-Net', 'ResNet50V2 U-Net', 'DenseNet201 U-Net', 'EfficientNetB4 CT-UNet']\n"
     ]
    }
   ],
   "source": [
    "print(models)"
   ]
  },
  {
   "cell_type": "code",
   "execution_count": 12,
   "id": "93915dba",
   "metadata": {},
   "outputs": [],
   "source": [
    "ensemble_models = [\",\".join(map(str, comb)) for comb in combinations(models, 3)]"
   ]
  },
  {
   "cell_type": "code",
   "execution_count": 15,
   "id": "abe32b10",
   "metadata": {},
   "outputs": [
    {
     "name": "stdout",
     "output_type": "stream",
     "text": [
      "20\n"
     ]
    }
   ],
   "source": [
    "print(len(set(combinations(models, 3))))"
   ]
  },
  {
   "cell_type": "code",
   "execution_count": null,
   "id": "859e7704",
   "metadata": {},
   "outputs": [],
   "source": []
  }
 ],
 "metadata": {
  "kernelspec": {
   "display_name": "Python 3 (ipykernel)",
   "language": "python",
   "name": "python3"
  },
  "language_info": {
   "codemirror_mode": {
    "name": "ipython",
    "version": 3
   },
   "file_extension": ".py",
   "mimetype": "text/x-python",
   "name": "python",
   "nbconvert_exporter": "python",
   "pygments_lexer": "ipython3",
   "version": "3.8.16"
  }
 },
 "nbformat": 4,
 "nbformat_minor": 5
}
