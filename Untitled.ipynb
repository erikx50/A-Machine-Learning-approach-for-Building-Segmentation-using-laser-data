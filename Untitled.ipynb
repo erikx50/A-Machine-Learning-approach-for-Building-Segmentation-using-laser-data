{
 "cells": [
  {
   "cell_type": "code",
   "execution_count": 3,
   "id": "09c49221",
   "metadata": {},
   "outputs": [],
   "source": [
    "from itertools import combinations"
   ]
  },
  {
   "cell_type": "code",
   "execution_count": 1,
   "id": "3c3c24cf",
   "metadata": {},
   "outputs": [],
   "source": [
    "models = ['U-Net', 'EfficientNetB4 U-Net', 'EfficientNetV2S U-Net', 'ResNet50V2 U-Net', 'DenseNet201 U-Net',\n",
    "              'EfficientNetB4 CT-UNet', 'EfficientNetV2S CT-UNet', 'ResNet50V2 CT-Unet', 'DenseNet201 CT-Unet']"
   ]
  },
  {
   "cell_type": "code",
   "execution_count": 2,
   "id": "225152b7",
   "metadata": {},
   "outputs": [
    {
     "name": "stdout",
     "output_type": "stream",
     "text": [
      "['U-Net', 'EfficientNetB4 U-Net', 'EfficientNetV2S U-Net', 'ResNet50V2 U-Net', 'DenseNet201 U-Net', 'EfficientNetB4 CT-UNet', 'EfficientNetV2S CT-UNet', 'ResNet50V2 CT-Unet', 'DenseNet201 CT-Unet']\n"
     ]
    }
   ],
   "source": [
    "print(models)"
   ]
  },
  {
   "cell_type": "code",
   "execution_count": 5,
   "id": "75d96b29",
   "metadata": {},
   "outputs": [],
   "source": [
    "ensemble_models = [\",\".join(map(str, comb)) for comb in combinations(models, 3)]"
   ]
  },
  {
   "cell_type": "code",
   "execution_count": 8,
   "id": "395823d1",
   "metadata": {},
   "outputs": [
    {
     "name": "stdout",
     "output_type": "stream",
     "text": [
      "{('ResNet50V2 U-Net', 'DenseNet201 U-Net', 'ResNet50V2 CT-Unet'), ('EfficientNetV2S U-Net', 'EfficientNetV2S CT-UNet', 'ResNet50V2 CT-Unet'), ('EfficientNetV2S U-Net', 'ResNet50V2 U-Net', 'EfficientNetV2S CT-UNet'), ('U-Net', 'ResNet50V2 U-Net', 'DenseNet201 CT-Unet'), ('EfficientNetV2S U-Net', 'DenseNet201 U-Net', 'EfficientNetB4 CT-UNet'), ('EfficientNetB4 U-Net', 'EfficientNetV2S U-Net', 'DenseNet201 CT-Unet'), ('DenseNet201 U-Net', 'ResNet50V2 CT-Unet', 'DenseNet201 CT-Unet'), ('EfficientNetB4 CT-UNet', 'ResNet50V2 CT-Unet', 'DenseNet201 CT-Unet'), ('ResNet50V2 U-Net', 'EfficientNetB4 CT-UNet', 'DenseNet201 CT-Unet'), ('U-Net', 'DenseNet201 U-Net', 'EfficientNetB4 CT-UNet'), ('EfficientNetB4 U-Net', 'EfficientNetB4 CT-UNet', 'DenseNet201 CT-Unet'), ('U-Net', 'EfficientNetV2S U-Net', 'EfficientNetB4 CT-UNet'), ('EfficientNetV2S U-Net', 'EfficientNetB4 CT-UNet', 'EfficientNetV2S CT-UNet'), ('U-Net', 'EfficientNetV2S CT-UNet', 'DenseNet201 CT-Unet'), ('U-Net', 'EfficientNetB4 U-Net', 'DenseNet201 CT-Unet'), ('U-Net', 'EfficientNetV2S U-Net', 'ResNet50V2 U-Net'), ('EfficientNetB4 U-Net', 'EfficientNetV2S CT-UNet', 'DenseNet201 CT-Unet'), ('EfficientNetB4 U-Net', 'EfficientNetV2S U-Net', 'ResNet50V2 U-Net'), ('EfficientNetB4 U-Net', 'ResNet50V2 U-Net', 'EfficientNetB4 CT-UNet'), ('EfficientNetV2S U-Net', 'ResNet50V2 U-Net', 'ResNet50V2 CT-Unet'), ('EfficientNetB4 U-Net', 'ResNet50V2 CT-Unet', 'DenseNet201 CT-Unet'), ('U-Net', 'EfficientNetB4 U-Net', 'EfficientNetB4 CT-UNet'), ('EfficientNetV2S U-Net', 'DenseNet201 U-Net', 'DenseNet201 CT-Unet'), ('U-Net', 'EfficientNetB4 U-Net', 'ResNet50V2 U-Net'), ('EfficientNetV2S U-Net', 'EfficientNetB4 CT-UNet', 'ResNet50V2 CT-Unet'), ('U-Net', 'DenseNet201 U-Net', 'DenseNet201 CT-Unet'), ('U-Net', 'EfficientNetV2S U-Net', 'DenseNet201 CT-Unet'), ('DenseNet201 U-Net', 'EfficientNetB4 CT-UNet', 'DenseNet201 CT-Unet'), ('DenseNet201 U-Net', 'EfficientNetV2S CT-UNet', 'DenseNet201 CT-Unet'), ('EfficientNetV2S U-Net', 'ResNet50V2 U-Net', 'DenseNet201 U-Net'), ('EfficientNetB4 CT-UNet', 'EfficientNetV2S CT-UNet', 'DenseNet201 CT-Unet'), ('U-Net', 'EfficientNetB4 CT-UNet', 'DenseNet201 CT-Unet'), ('EfficientNetB4 U-Net', 'DenseNet201 U-Net', 'DenseNet201 CT-Unet'), ('U-Net', 'DenseNet201 U-Net', 'EfficientNetV2S CT-UNet'), ('U-Net', 'EfficientNetV2S CT-UNet', 'ResNet50V2 CT-Unet'), ('U-Net', 'EfficientNetV2S U-Net', 'EfficientNetV2S CT-UNet'), ('ResNet50V2 U-Net', 'DenseNet201 U-Net', 'EfficientNetB4 CT-UNet'), ('EfficientNetB4 U-Net', 'ResNet50V2 U-Net', 'DenseNet201 CT-Unet'), ('U-Net', 'ResNet50V2 U-Net', 'EfficientNetV2S CT-UNet'), ('ResNet50V2 U-Net', 'EfficientNetV2S CT-UNet', 'DenseNet201 CT-Unet'), ('DenseNet201 U-Net', 'EfficientNetB4 CT-UNet', 'EfficientNetV2S CT-UNet'), ('ResNet50V2 U-Net', 'ResNet50V2 CT-Unet', 'DenseNet201 CT-Unet'), ('EfficientNetB4 U-Net', 'EfficientNetV2S U-Net', 'EfficientNetV2S CT-UNet'), ('U-Net', 'EfficientNetB4 CT-UNet', 'EfficientNetV2S CT-UNet'), ('ResNet50V2 U-Net', 'EfficientNetB4 CT-UNet', 'EfficientNetV2S CT-UNet'), ('EfficientNetB4 U-Net', 'ResNet50V2 U-Net', 'EfficientNetV2S CT-UNet'), ('EfficientNetB4 U-Net', 'DenseNet201 U-Net', 'EfficientNetB4 CT-UNet'), ('EfficientNetB4 U-Net', 'EfficientNetB4 CT-UNet', 'EfficientNetV2S CT-UNet'), ('U-Net', 'EfficientNetB4 U-Net', 'EfficientNetV2S CT-UNet'), ('U-Net', 'DenseNet201 U-Net', 'ResNet50V2 CT-Unet'), ('U-Net', 'EfficientNetV2S U-Net', 'ResNet50V2 CT-Unet'), ('U-Net', 'ResNet50V2 U-Net', 'ResNet50V2 CT-Unet'), ('ResNet50V2 U-Net', 'DenseNet201 U-Net', 'DenseNet201 CT-Unet'), ('EfficientNetV2S U-Net', 'ResNet50V2 U-Net', 'EfficientNetB4 CT-UNet'), ('DenseNet201 U-Net', 'EfficientNetV2S CT-UNet', 'ResNet50V2 CT-Unet'), ('EfficientNetV2S U-Net', 'ResNet50V2 CT-Unet', 'DenseNet201 CT-Unet'), ('EfficientNetB4 U-Net', 'EfficientNetV2S U-Net', 'ResNet50V2 CT-Unet'), ('EfficientNetB4 CT-UNet', 'EfficientNetV2S CT-UNet', 'ResNet50V2 CT-Unet'), ('U-Net', 'EfficientNetB4 CT-UNet', 'ResNet50V2 CT-Unet'), ('EfficientNetV2S U-Net', 'DenseNet201 U-Net', 'EfficientNetV2S CT-UNet'), ('ResNet50V2 U-Net', 'EfficientNetB4 CT-UNet', 'ResNet50V2 CT-Unet'), ('EfficientNetB4 U-Net', 'ResNet50V2 U-Net', 'ResNet50V2 CT-Unet'), ('EfficientNetB4 U-Net', 'EfficientNetB4 CT-UNet', 'ResNet50V2 CT-Unet'), ('U-Net', 'EfficientNetB4 U-Net', 'ResNet50V2 CT-Unet'), ('U-Net', 'EfficientNetV2S U-Net', 'DenseNet201 U-Net'), ('U-Net', 'ResNet50V2 U-Net', 'DenseNet201 U-Net'), ('EfficientNetB4 U-Net', 'DenseNet201 U-Net', 'EfficientNetV2S CT-UNet'), ('EfficientNetB4 U-Net', 'EfficientNetV2S CT-UNet', 'ResNet50V2 CT-Unet'), ('EfficientNetB4 U-Net', 'EfficientNetV2S U-Net', 'DenseNet201 U-Net'), ('EfficientNetV2S U-Net', 'ResNet50V2 U-Net', 'DenseNet201 CT-Unet'), ('EfficientNetV2S U-Net', 'DenseNet201 U-Net', 'ResNet50V2 CT-Unet'), ('EfficientNetB4 U-Net', 'ResNet50V2 U-Net', 'DenseNet201 U-Net'), ('U-Net', 'EfficientNetB4 U-Net', 'DenseNet201 U-Net'), ('EfficientNetV2S U-Net', 'EfficientNetB4 CT-UNet', 'DenseNet201 CT-Unet'), ('EfficientNetV2S U-Net', 'EfficientNetV2S CT-UNet', 'DenseNet201 CT-Unet'), ('U-Net', 'EfficientNetB4 U-Net', 'EfficientNetV2S U-Net'), ('DenseNet201 U-Net', 'EfficientNetB4 CT-UNet', 'ResNet50V2 CT-Unet'), ('EfficientNetB4 U-Net', 'DenseNet201 U-Net', 'ResNet50V2 CT-Unet'), ('ResNet50V2 U-Net', 'DenseNet201 U-Net', 'EfficientNetV2S CT-UNet'), ('ResNet50V2 U-Net', 'EfficientNetV2S CT-UNet', 'ResNet50V2 CT-Unet'), ('U-Net', 'ResNet50V2 U-Net', 'EfficientNetB4 CT-UNet'), ('U-Net', 'ResNet50V2 CT-Unet', 'DenseNet201 CT-Unet'), ('EfficientNetB4 U-Net', 'EfficientNetV2S U-Net', 'EfficientNetB4 CT-UNet'), ('EfficientNetV2S CT-UNet', 'ResNet50V2 CT-Unet', 'DenseNet201 CT-Unet')}\n"
     ]
    }
   ],
   "source": [
    "print(set(combinations(models, 3)))"
   ]
  },
  {
   "cell_type": "code",
   "execution_count": null,
   "id": "96736eb9",
   "metadata": {},
   "outputs": [],
   "source": []
  }
 ],
 "metadata": {
  "kernelspec": {
   "display_name": "Python 3 (ipykernel)",
   "language": "python",
   "name": "python3"
  },
  "language_info": {
   "codemirror_mode": {
    "name": "ipython",
    "version": 3
   },
   "file_extension": ".py",
   "mimetype": "text/x-python",
   "name": "python",
   "nbconvert_exporter": "python",
   "pygments_lexer": "ipython3",
   "version": "3.8.16"
  }
 },
 "nbformat": 4,
 "nbformat_minor": 5
}
