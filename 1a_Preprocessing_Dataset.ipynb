{
 "cells": [
  {
   "cell_type": "markdown",
   "id": "2989979a",
   "metadata": {},
   "source": [
    "# Preprocessing Dataset"
   ]
  },
  {
   "cell_type": "markdown",
   "id": "70d0009c",
   "metadata": {},
   "source": [
    "## Imports"
   ]
  },
  {
   "cell_type": "code",
   "execution_count": 6,
   "id": "cf174910",
   "metadata": {},
   "outputs": [],
   "source": [
    "import os\n",
    "\n",
    "import cv2 as cv\n",
    "import matplotlib.pyplot as plt\n",
    "from tqdm import tqdm\n",
    "import numpy as np"
   ]
  },
  {
   "cell_type": "markdown",
   "id": "54b1dbfa",
   "metadata": {},
   "source": [
    "## Preprocess dataset"
   ]
  },
  {
   "cell_type": "markdown",
   "id": "cb006948",
   "metadata": {},
   "source": [
    "MapAI uses images of 500x500 pixels. This input wont work on a U-Net networks as when we are Max-pooling the results will be: 500->250->125->62->... This 62 will later then be sampled up to 124 which will be a mismatch with 125. For the U-Net part of the thesis we will therefore scale up the training, validation and test images to 512x512.\n",
    "<br>\n",
    "<br>\n",
    "Due to class imbalance we will also remove images that contains less then a threshold of class 1."
   ]
  },
  {
   "cell_type": "code",
   "execution_count": 7,
   "id": "86f71985",
   "metadata": {},
   "outputs": [],
   "source": [
    "def _mask_to_boundary(mask, dilation_ratio=0.02):\n",
    "    \"\"\"\n",
    "    Convert binary mask to boundary mask.\n",
    "    :param mask (numpy array, uint8): binary mask\n",
    "    :param dilation_ratio (float): ratio to calculate dilation = dilation_ratio * image_diagonal\n",
    "    :return: boundary mask (numpy array)\n",
    "    \"\"\"\n",
    "    h, w = mask.shape\n",
    "    img_diag = np.sqrt(h ** 2 + w ** 2)\n",
    "    dilation = int(round(dilation_ratio * img_diag))\n",
    "    if dilation < 1:\n",
    "        dilation = 1\n",
    "    # Pad image so mask truncated by the image border is also considered as boundary.\n",
    "    new_mask = cv.copyMakeBorder(mask, 1, 1, 1, 1, cv.BORDER_CONSTANT, value=0)\n",
    "    kernel = np.ones((3, 3), dtype=np.uint8)\n",
    "    new_mask_erode = cv.erode(new_mask, kernel, iterations=dilation)\n",
    "    mask_erode = new_mask_erode[1 : h + 1, 1 : w + 1]\n",
    "    # G_d intersects G in the paper.\n",
    "    return mask - mask_erode"
   ]
  },
  {
   "cell_type": "code",
   "execution_count": null,
   "id": "f10d4146",
   "metadata": {},
   "outputs": [
    {
     "name": "stderr",
     "output_type": "stream",
     "text": [
      "\r",
      "  0%|                                                                                            | 0/3 [00:00<?, ?it/s]"
     ]
    }
   ],
   "source": [
    "# Defining sets that has to be rescaled\n",
    "datasets = ['train', 'validation', 'task1_test']\n",
    "\n",
    "# Define image size\n",
    "original_size = 500\n",
    "new_size = 512\n",
    "\n",
    "for dataset in tqdm(datasets):\n",
    "    # Make directory for preprocessed dataset\n",
    "    dataset_path = os.path.normpath('dataset/MapAI/512x512_' + dataset)\n",
    "    if not os.path.exists(dataset_path):\n",
    "        os.makedirs(dataset_path)\n",
    "\n",
    "    # Make directory for preprocessed subsets\n",
    "    mask_path = os.path.normpath('dataset/MapAI/512x512_' + dataset + '/mask')\n",
    "    image_path = os.path.normpath('dataset/MapAI/512x512_' + dataset + '/image')\n",
    "    edge_mask_path = os.path.normpath('dataset/MapAI/512x512_' + dataset + '/edge_mask')\n",
    "    original_mask_path = os.path.normpath('dataset/MapAI/' + dataset + '/mask')\n",
    "    original_image_path = os.path.normpath('dataset/MapAI/' + dataset + '/image')\n",
    "    \n",
    "    if not os.path.exists(mask_path):\n",
    "        os.makedirs(mask_path)\n",
    "    if not os.path.exists(image_path):\n",
    "        os.makedirs(image_path)\n",
    "    if not os.path.exists(edge_mask_path):\n",
    "        os.makedirs(edge_mask_path)\n",
    "\n",
    "    # Upscale images to 512x512\n",
    "    with os.scandir(original_mask_path) as entries:\n",
    "        for entry in entries:\n",
    "            mask_img = cv.imread(os.path.normpath(original_mask_path + '/' + entry.name), cv.IMREAD_GRAYSCALE)\n",
    "            mask_img[mask_img == 255] = 1\n",
    "\n",
    "            # Resize images\n",
    "            # Mask\n",
    "            resize_mask_img = cv.resize(mask_img, (new_size, new_size), interpolation = cv.INTER_AREA)\n",
    "            cv.imwrite(os.path.normpath(mask_path + '/' + entry.name), resize_mask_img)\n",
    "            \n",
    "            # Edge mask\n",
    "            edge_mask = _mask_to_boundary(resize_mask_img)\n",
    "            edge_mask[edge_mask == 255] = 1\n",
    "            cv.imwrite(os.path.normpath(edge_mask_path + '/' + entry.name), edge_mask)\n",
    "\n",
    "            # Image\n",
    "            img = cv.imread(os.path.normpath(original_image_path + '/' + entry.name), cv.IMREAD_COLOR)\n",
    "            img = cv.cvtColor(img, cv.COLOR_BGR2RGB)\n",
    "            resize_img = cv.resize(img, (new_size, new_size), interpolation = cv.INTER_AREA)\n",
    "            resize_img = cv.cvtColor(resize_img, cv.COLOR_BGR2RGB)\n",
    "            cv.imwrite(os.path.normpath(image_path + '/' + entry.name), resize_img)\n",
    "            \n"
   ]
  },
  {
   "cell_type": "code",
   "execution_count": 4,
   "id": "b55e5e82",
   "metadata": {},
   "outputs": [],
   "source": [
    "# Displaying images before and after resizing\n",
    "def show_images(set_name, data_name):\n",
    "    path_original = os.path.normpath('dataset/MapAI/' + set_name)\n",
    "    path_new = os.path.normpath(\"dataset/MapAI/512x512_\" + set_name)\n",
    "    # Define plot\n",
    "    plt.figure(figsize=(20,20))\n",
    "    \n",
    "    # Find and display aerial image\n",
    "    plt.subplot(231)\n",
    "    plt.title('Aerial Image')\n",
    "    aerial_img = cv.imread(os.path.normpath(path_new + \"/image/\" + data_name + \".PNG\"))\n",
    "    aerial_img = cv.cvtColor(aerial_img, cv.COLOR_BGR2RGB)\n",
    "    plt.imshow(aerial_img)\n",
    "    \n",
    "    # Find and display mask image\n",
    "    plt.subplot(232)\n",
    "    plt.title('Mask Image')\n",
    "    mask_img = cv.imread(os.path.normpath(path_new + \"/mask/\" + data_name + \".PNG\"))\n",
    "    plt.imshow(mask_img * 255, cmap='gray')\n",
    "    \n",
    "    # Find and display edge mask image\n",
    "    plt.subplot(233)\n",
    "    plt.title('Edge Mask Image')\n",
    "    edge_mask_img = cv.imread(os.path.normpath(path_new + \"/edge_mask/\" + data_name + \".PNG\"))\n",
    "    plt.imshow(edge_mask_img * 255, cmap='gray')\n",
    "\n",
    "    \n",
    "    plt.show()"
   ]
  },
  {
   "cell_type": "code",
   "execution_count": 5,
   "id": "6965bc09",
   "metadata": {},
   "outputs": [
    {
     "ename": "error",
     "evalue": "OpenCV(4.6.0) D:\\a\\opencv-python\\opencv-python\\opencv\\modules\\imgproc\\src\\color.cpp:182: error: (-215:Assertion failed) !_src.empty() in function 'cv::cvtColor'\n",
     "output_type": "error",
     "traceback": [
      "\u001b[1;31m---------------------------------------------------------------------------\u001b[0m",
      "\u001b[1;31merror\u001b[0m                                     Traceback (most recent call last)",
      "Cell \u001b[1;32mIn[5], line 1\u001b[0m\n\u001b[1;32m----> 1\u001b[0m \u001b[43mshow_images\u001b[49m\u001b[43m(\u001b[49m\u001b[38;5;124;43m\"\u001b[39;49m\u001b[38;5;124;43mtrain\u001b[39;49m\u001b[38;5;124;43m\"\u001b[39;49m\u001b[43m,\u001b[49m\u001b[43m \u001b[49m\u001b[38;5;124;43m\"\u001b[39;49m\u001b[38;5;124;43m6051_689_1\u001b[39;49m\u001b[38;5;124;43m\"\u001b[39;49m\u001b[43m)\u001b[49m\n",
      "Cell \u001b[1;32mIn[4], line 12\u001b[0m, in \u001b[0;36mshow_images\u001b[1;34m(set_name, data_name)\u001b[0m\n\u001b[0;32m     10\u001b[0m plt\u001b[38;5;241m.\u001b[39mtitle(\u001b[38;5;124m'\u001b[39m\u001b[38;5;124mAerial Image\u001b[39m\u001b[38;5;124m'\u001b[39m)\n\u001b[0;32m     11\u001b[0m aerial_img \u001b[38;5;241m=\u001b[39m cv\u001b[38;5;241m.\u001b[39mimread(os\u001b[38;5;241m.\u001b[39mpath\u001b[38;5;241m.\u001b[39mnormpath(path_new \u001b[38;5;241m+\u001b[39m \u001b[38;5;124m\"\u001b[39m\u001b[38;5;124m/image/\u001b[39m\u001b[38;5;124m\"\u001b[39m \u001b[38;5;241m+\u001b[39m data_name \u001b[38;5;241m+\u001b[39m \u001b[38;5;124m\"\u001b[39m\u001b[38;5;124m.PNG\u001b[39m\u001b[38;5;124m\"\u001b[39m))\n\u001b[1;32m---> 12\u001b[0m aerial_img \u001b[38;5;241m=\u001b[39m \u001b[43mcv\u001b[49m\u001b[38;5;241;43m.\u001b[39;49m\u001b[43mcvtColor\u001b[49m\u001b[43m(\u001b[49m\u001b[43maerial_img\u001b[49m\u001b[43m,\u001b[49m\u001b[43m \u001b[49m\u001b[43mcv\u001b[49m\u001b[38;5;241;43m.\u001b[39;49m\u001b[43mCOLOR_BGR2RGB\u001b[49m\u001b[43m)\u001b[49m\n\u001b[0;32m     13\u001b[0m plt\u001b[38;5;241m.\u001b[39mimshow(aerial_img)\n\u001b[0;32m     15\u001b[0m \u001b[38;5;66;03m# Find and display mask image\u001b[39;00m\n",
      "\u001b[1;31merror\u001b[0m: OpenCV(4.6.0) D:\\a\\opencv-python\\opencv-python\\opencv\\modules\\imgproc\\src\\color.cpp:182: error: (-215:Assertion failed) !_src.empty() in function 'cv::cvtColor'\n"
     ]
    },
    {
     "data": {
      "image/png": "[encoded data removed]",
      "text/plain": [
       "<Figure size 2000x2000 with 1 Axes>"
      ]
     },
     "metadata": {},
     "output_type": "display_data"
    }
   ],
   "source": [
    "show_images(\"train\", \"6051_689_1\")"
   ]
  },
  {
   "cell_type": "code",
   "execution_count": null,
   "id": "24fc75b2",
   "metadata": {},
   "outputs": [],
   "source": []
  }
 ],
 "metadata": {
  "kernelspec": {
   "display_name": "Python 3 (ipykernel)",
   "language": "python",
   "name": "python3"
  },
  "language_info": {
   "codemirror_mode": {
    "name": "ipython",
    "version": 3
   },
   "file_extension": ".py",
   "mimetype": "text/x-python",
   "name": "python",
   "nbconvert_exporter": "python",
   "pygments_lexer": "ipython3",
   "version": "3.8.16"
  }
 },
 "nbformat": 4,
 "nbformat_minor": 5
}
