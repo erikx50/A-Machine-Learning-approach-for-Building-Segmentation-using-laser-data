{
 "cells": [
  {
   "cell_type": "markdown",
   "id": "033e975e",
   "metadata": {},
   "source": [
    "# Train U-Net"
   ]
  },
  {
   "cell_type": "markdown",
   "id": "6152d6f7",
   "metadata": {},
   "source": [
    "## Imports"
   ]
  },
  {
   "cell_type": "code",
   "execution_count": 3,
   "id": "95142145",
   "metadata": {},
   "outputs": [],
   "source": [
    "from keras import models, layers, optimizers"
   ]
  },
  {
   "cell_type": "markdown",
   "id": "815bb22a",
   "metadata": {},
   "source": [
    "## Create and Compile U-Net"
   ]
  },
  {
   "cell_type": "markdown",
   "id": "03977cc7",
   "metadata": {},
   "source": [
    "<img src=\"unet.png\" width=\"600\"/>"
   ]
  },
  {
   "cell_type": "markdown",
   "id": "3e0375ad",
   "metadata": {},
   "source": [
    "For the convolutional layers we use \"padding = same\". This adds extra pixles along the edges of the image so that the 3x3 convolution covers the whole image. Because of this the dimensions of the output image is the same as the input image. This is not the case with the image above as we see that the pixels of the image changes from 572x572 to 570x570 in the first convolution.\n",
    "<br>\n",
    "<br>\n",
    "In between the convolutional layers we will make use of \"dropout\". This is to prevent overfitting.\n",
    "<br>\n",
    "<br>\n",
    "Kernel initializer is the starting weight of the layers. \"he_normal\" picks a starting value from a truncated normal distribution."
   ]
  },
  {
   "cell_type": "code",
   "execution_count": null,
   "id": "fbb31daa",
   "metadata": {},
   "outputs": [],
   "source": [
    "# Creating the model\n",
    "def unet(input_size=(500, 500, 3)):\n",
    "    # Encoder Part\n",
    "    # Layer 1\n",
    "    inputs = layers.Input(input_size)\n",
    "    c1 = layers.Conv2D(64, (3,3), activation = 'relu', kernel_initializer = 'he_normal', padding = 'same')\n",
    "    \n",
    "    # Layer 2\n",
    "    \n",
    "    # Layer 3\n",
    "    \n",
    "    # Layer 4\n",
    "    \n",
    "    \n",
    "    # Bottom Part\n",
    "    # Layer 5\n",
    "    \n",
    "    # Decoder Part\n",
    "    # Layer 6\n",
    "    \n",
    "    # Layer 7\n",
    "    \n",
    "    # Layer 8\n",
    "    \n",
    "    # Layer 9\n",
    "    "
   ]
  },
  {
   "cell_type": "markdown",
   "id": "130259ad",
   "metadata": {},
   "source": [
    "## Train U-Net"
   ]
  },
  {
   "cell_type": "code",
   "execution_count": null,
   "id": "4259be61",
   "metadata": {},
   "outputs": [],
   "source": []
  }
 ],
 "metadata": {
  "kernelspec": {
   "display_name": "Python 3 (ipykernel)",
   "language": "python",
   "name": "python3"
  },
  "language_info": {
   "codemirror_mode": {
    "name": "ipython",
    "version": 3
   },
   "file_extension": ".py",
   "mimetype": "text/x-python",
   "name": "python",
   "nbconvert_exporter": "python",
   "pygments_lexer": "ipython3",
   "version": "3.10.6"
  }
 },
 "nbformat": 4,
 "nbformat_minor": 5
}
