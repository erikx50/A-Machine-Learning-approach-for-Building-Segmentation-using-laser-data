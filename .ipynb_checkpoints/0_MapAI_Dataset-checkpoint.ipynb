{
 "cells": [
  {
   "cell_type": "markdown",
   "id": "adc25ce0",
   "metadata": {},
   "source": [
    "# MapAI Dataset"
   ]
  },
  {
   "cell_type": "markdown",
   "id": "d45915f4",
   "metadata": {},
   "source": [
    "## Imports"
   ]
  },
  {
   "cell_type": "code",
   "execution_count": 1,
   "id": "e2579bb2",
   "metadata": {},
   "outputs": [
    {
     "name": "stderr",
     "output_type": "stream",
     "text": [
      "C:\\Users\\erikf\\anaconda3\\envs\\tf\\lib\\site-packages\\tqdm\\auto.py:22: TqdmWarning: IProgress not found. Please update jupyter and ipywidgets. See https://ipywidgets.readthedocs.io/en/stable/user_install.html\n",
      "  from .autonotebook import tqdm as notebook_tqdm\n"
     ]
    }
   ],
   "source": [
    "import pathlib\n",
    "import os\n",
    "\n",
    "from datasets import load_dataset\n",
    "import cv2 as cv\n",
    "from PIL import Image\n",
    "import numpy as np\n",
    "import matplotlib.pyplot as plt"
   ]
  },
  {
   "cell_type": "markdown",
   "id": "9097e48e",
   "metadata": {},
   "source": [
    "## Download Dataset"
   ]
  },
  {
   "cell_type": "code",
   "execution_count": 2,
   "id": "e920f459",
   "metadata": {},
   "outputs": [
    {
     "name": "stderr",
     "output_type": "stream",
     "text": [
      "Using custom data configuration sjyhne--mapai_dataset-a29285241f23b7c3\n",
      "Found cached dataset parquet (C:/Users/erikf/.cache/huggingface/datasets/sjyhne___parquet/sjyhne--mapai_dataset-a29285241f23b7c3/0.0.0/2a3b91fbd88a2c90d1dbbb32b460cf621d31bd5b05b934492fdef7d8d6f236ec)\n",
      "100%|████████████████████████████████████████████████████████████████████████████████████| 4/4 [00:02<00:00,  1.97it/s]\n"
     ]
    }
   ],
   "source": [
    "dataset = load_dataset(\"sjyhne/mapai_dataset\")"
   ]
  },
  {
   "cell_type": "code",
   "execution_count": 3,
   "id": "ed5b5d1a",
   "metadata": {},
   "outputs": [
    {
     "name": "stdout",
     "output_type": "stream",
     "text": [
      "DatasetDict({\n",
      "    train: Dataset({\n",
      "        features: ['image', 'lidar', 'mask', 'filename'],\n",
      "        num_rows: 7000\n",
      "    })\n",
      "    validation: Dataset({\n",
      "        features: ['image', 'lidar', 'mask', 'filename'],\n",
      "        num_rows: 1500\n",
      "    })\n",
      "    task2_test: Dataset({\n",
      "        features: ['image', 'lidar', 'mask', 'filename'],\n",
      "        num_rows: 978\n",
      "    })\n",
      "    task1_test: Dataset({\n",
      "        features: ['image', 'lidar', 'mask', 'filename'],\n",
      "        num_rows: 1368\n",
      "    })\n",
      "})\n"
     ]
    }
   ],
   "source": [
    "print(dataset)"
   ]
  },
  {
   "cell_type": "markdown",
   "id": "05861c14",
   "metadata": {},
   "source": [
    "## Unpack images, labels and LiDAR and store them in data folder"
   ]
  },
  {
   "cell_type": "code",
   "execution_count": 4,
   "id": "85a5e4d3",
   "metadata": {},
   "outputs": [],
   "source": [
    "# Create MapAI folder if it doesnt exist\n",
    "dataset_path = os.path.normpath(\"dataset\\\\MapAI\")\n",
    "if not os.path.exists(dataset_path):\n",
    "    os.makedirs(dataset_path)\n",
    "    \n",
    "# Iterate through MapAI_dataset\n",
    "for set_name in dataset.keys():\n",
    "    # Create subfolder if it doesnt exist\n",
    "    subfolder_path = os.path.normpath(\"dataset\\\\MapAI\\\\\" + set_name)\n",
    "    if not os.path.exists(subfolder_path):\n",
    "        os.makedirs(subfolder_path)\n",
    "    \n",
    "    # Create subsubfolders if they doesnt exit\n",
    "    subsubfolders = [\"image\", \"mask\", \"lidar\"]\n",
    "    for folder_name in subsubfolders:\n",
    "        subsubfolder_path = os.path.normpath(\"dataset\\\\MapAI\\\\\" + set_name + \"\\\\\" + folder_name)\n",
    "        if not os.path.exists(subsubfolder_path):\n",
    "            os.makedirs(subsubfolder_path)\n",
    "    \n",
    "    # Access data\n",
    "    image_files = dataset[set_name][\"image\"]\n",
    "    mask_files = dataset[set_name][\"mask\"]\n",
    "    lidar_files = dataset[set_name][\"lidar\"]\n",
    "    filename_files = dataset[set_name][\"filename\"]\n",
    "    \n",
    "    for x in range(len(filename_files)):\n",
    "        # Remove file extension from filename\n",
    "        filename = filename_files[x].split(\".\")[0]\n",
    "        \n",
    "        # Save RGB aerial image in image folder\n",
    "        image_files[x].save(os.path.normpath(\"dataset\\\\MapAI\\\\\" + set_name + \"\\\\image\\\\\" + filename + \".PNG\"))\n",
    "        \n",
    "        # Save Greyscale mask image in mask folder\n",
    "        mask_array = np.asarray(mask_files[x])\n",
    "        mask_im = Image.fromarray(mask_array*255) # Multiply pixels by 255: [0, 1] -> [0, 255]\n",
    "        mask_im.save(os.path.normpath(\"dataset\\\\MapAI\\\\\" + set_name + \"\\\\mask\\\\\" + filename + \".PNG\"))\n",
    "        \n",
    "        # Save floating point LiDAR data in lidar folder as a numpy file\n",
    "        lidar_array = np.asarray(lidar_files[x])\n",
    "        np.save(os.path.normpath(\"dataset\\\\MapAI\\\\\" + set_name + \"\\\\lidar\\\\\" + filename), lidar_array)\n",
    "        \n",
    "    "
   ]
  },
  {
   "cell_type": "markdown",
   "id": "611cb49b",
   "metadata": {},
   "source": [
    "## Display some images from the dataset"
   ]
  },
  {
   "cell_type": "code",
   "execution_count": 11,
   "id": "7c2bfc2e",
   "metadata": {},
   "outputs": [],
   "source": [
    "# function that displays aerial image, lidar and ground truths\n",
    "def display_dataset(set_name, data_name):\n",
    "    path = os.path.normpath(\"dataset\\\\MapAI\\\\\" + set_name)\n",
    "    # Define plot\n",
    "    \n",
    "    # Find and display aerial image\n",
    "    aerial_img = cv.imread(os.path.normpath(path + \"\\\\image\\\\\" + data_name + \".PNG\"))\n",
    "    \n",
    "    # Find and display lidar image\n",
    "    lidar_img = np.load(os.path.normpath(path + \"\\\\lidar\\\\\" + data_name + \".npy\"))\n",
    "    \n",
    "    # Find and display ground truth image\n",
    "    mask_img = cv.imread(os.path.normpath(path + \"\\\\mask\\\\\" + data_name + \".PNG\"))\n",
    "    "
   ]
  },
  {
   "cell_type": "code",
   "execution_count": 12,
   "id": "ef173f46",
   "metadata": {},
   "outputs": [
    {
     "name": "stdout",
     "output_type": "stream",
     "text": [
      "dataset\\MapAI\\train\n"
     ]
    }
   ],
   "source": [
    "display_dataset(\"train\", \"6051_689_1\")"
   ]
  },
  {
   "cell_type": "code",
   "execution_count": null,
   "id": "7a89ac0f",
   "metadata": {},
   "outputs": [],
   "source": []
  }
 ],
 "metadata": {
  "kernelspec": {
   "display_name": "Python 3 (ipykernel)",
   "language": "python",
   "name": "python3"
  },
  "language_info": {
   "codemirror_mode": {
    "name": "ipython",
    "version": 3
   },
   "file_extension": ".py",
   "mimetype": "text/x-python",
   "name": "python",
   "nbconvert_exporter": "python",
   "pygments_lexer": "ipython3",
   "version": "3.10.6"
  }
 },
 "nbformat": 4,
 "nbformat_minor": 5
}
